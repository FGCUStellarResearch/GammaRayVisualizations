{
 "cells": [
  {
   "cell_type": "code",
   "execution_count": 63,
   "metadata": {},
   "outputs": [],
   "source": [
    "import numpy as np\n",
    "from astropy.io import fits\n",
    "import matplotlib.pyplot as plt\n",
    "import matplotlib.colors as colors\n",
    "import matplotlib.animation as animation\n",
    "from IPython.display import HTML"
   ]
  },
  {
   "cell_type": "code",
   "execution_count": 64,
   "metadata": {},
   "outputs": [],
   "source": [
    "#function for opening fits file and getting header and pixel data\n",
    "def read_fits_file(target_file):\n",
    "    tess_file = fits.open(target_file)\n",
    "    header_data = tess_file[0].header\n",
    "    check_data = tess_file[1].data\n",
    "    tess_file.close()\n",
    "    # Converts flux values to an array.\n",
    "    pixel_data = np.asarray(check_data)\n",
    "    return (header_data, pixel_data, check_data)\n",
    "\n",
    "input_file = './tess-s0004-2-2_56.795000_-29.332000_10x10_astrocut.fits'\n",
    "\n",
    "header, pixels, check = read_fits_file(input_file)\n",
    "\n",
    "#THe flux values of the first frame.\n",
    "frame_one = np.stack(pixels['FLUX'][0])"
   ]
  },
  {
   "cell_type": "code",
   "execution_count": 65,
   "metadata": {},
   "outputs": [
    {
     "data": {
      "image/png": "[encoded data removed]",
      "text/plain": [
       "<Figure size 432x288 with 1 Axes>"
      ]
     },
     "metadata": {
      "needs_background": "light"
     },
     "output_type": "display_data"
    }
   ],
   "source": [
    "#Image of the flux values for the first frame\n",
    "frame_image =  plt.imshow(frame_one)"
   ]
  },
  {
   "cell_type": "code",
   "execution_count": 4,
   "metadata": {},
   "outputs": [
    {
     "data": {
      "text/plain": [
       "array([[ 84.40231 ,  84.34905 ,  85.29726 ,  86.93851 ,  86.10473 ,\n",
       "         84.80507 ,  84.22266 ,  83.758965,  84.27861 ,  83.8188  ],\n",
       "       [ 84.53514 ,  84.215996,  84.66458 ,  85.98827 ,  85.447464,\n",
       "         84.3171  ,  84.2949  ,  83.08101 ,  84.68075 ,  84.864845],\n",
       "       [ 84.44131 ,  83.678734,  84.4776  ,  85.22417 ,  85.44088 ,\n",
       "         85.148384,  84.78063 ,  83.989716,  85.27951 ,  85.68765 ],\n",
       "       [ 83.67475 ,  83.69163 ,  84.2761  ,  84.63122 ,  84.68964 ,\n",
       "         86.287926,  87.163055,  84.271385,  85.4633  ,  85.91263 ],\n",
       "       [ 85.12154 ,  86.241776,  85.85551 ,  86.09279 ,  85.19099 ,\n",
       "         85.88199 ,  85.10085 ,  84.52068 ,  85.43722 ,  85.17265 ],\n",
       "       [ 86.3111  ,  91.31679 ,  97.39433 ,  90.22488 ,  86.50572 ,\n",
       "         85.18196 ,  86.565605,  85.15817 ,  84.2653  ,  84.52945 ],\n",
       "       [ 86.99399 ,  96.995384, 119.14067 ,  94.94097 ,  87.51572 ,\n",
       "         86.20828 ,  85.74591 ,  84.66033 ,  84.57844 ,  84.85587 ],\n",
       "       [ 88.05015 ,  94.176605, 100.56261 ,  89.9576  ,  87.65416 ,\n",
       "         86.9392  ,  85.318054,  84.439415,  85.30679 ,  85.57733 ],\n",
       "       [ 86.84959 ,  89.1519  ,  89.84814 ,  88.90723 ,  90.384384,\n",
       "         88.55292 ,  85.90758 ,  86.26871 ,  85.75534 ,  85.31716 ],\n",
       "       [ 86.55665 ,  87.019714,  86.71602 ,  90.817474, 105.665596,\n",
       "         95.136765,  87.230896,  85.80795 ,  84.67391 ,  84.71546 ]],\n",
       "      dtype=float32)"
      ]
     },
     "execution_count": 4,
     "metadata": {},
     "output_type": "execute_result"
    }
   ],
   "source": [
    "frame_one"
   ]
  },
  {
   "cell_type": "code",
   "execution_count": 5,
   "metadata": {},
   "outputs": [
    {
     "name": "stdout",
     "output_type": "stream",
     "text": [
      "86.95246\n"
     ]
    }
   ],
   "source": [
    "mean = frame_one.mean()\n",
    "print(mean)"
   ]
  },
  {
   "cell_type": "code",
   "execution_count": 6,
   "metadata": {},
   "outputs": [
    {
     "name": "stdout",
     "output_type": "stream",
     "text": [
      "4.8587627\n",
      "91.811226\n"
     ]
    }
   ],
   "source": [
    "std = frame_one.std()\n",
    "print(std)\n",
    "print(mean + std)"
   ]
  },
  {
   "cell_type": "code",
   "execution_count": 7,
   "metadata": {},
   "outputs": [
    {
     "data": {
      "text/plain": [
       "(array([0, 0, 0, 0, 0, 0, 0, 0, 0, 0, 1, 1, 1, 1, 1, 1, 1, 1, 1, 1, 2, 2,\n",
       "        2, 2, 2, 2, 2, 2, 2, 2, 3, 3, 3, 3, 3, 3, 3, 3, 3, 3, 4, 4, 4, 4,\n",
       "        4, 4, 4, 4, 4, 4, 5, 5, 5, 5, 5, 5, 5, 5, 5, 6, 6, 6, 6, 6, 6, 6,\n",
       "        7, 7, 7, 7, 7, 7, 7, 7, 8, 8, 8, 8, 8, 8, 8, 8, 8, 8, 9, 9, 9, 9,\n",
       "        9, 9, 9, 9]),\n",
       " array([0, 1, 2, 3, 4, 5, 6, 7, 8, 9, 0, 1, 2, 3, 4, 5, 6, 7, 8, 9, 0, 1,\n",
       "        2, 3, 4, 5, 6, 7, 8, 9, 0, 1, 2, 3, 4, 5, 6, 7, 8, 9, 0, 1, 2, 3,\n",
       "        4, 5, 6, 7, 8, 9, 0, 1, 3, 4, 5, 6, 7, 8, 9, 0, 4, 5, 6, 7, 8, 9,\n",
       "        0, 3, 4, 5, 6, 7, 8, 9, 0, 1, 2, 3, 4, 5, 6, 7, 8, 9, 0, 1, 2, 3,\n",
       "        6, 7, 8, 9]))"
      ]
     },
     "execution_count": 7,
     "metadata": {},
     "output_type": "execute_result"
    }
   ],
   "source": [
    "                                            ''' \n",
    "        These are the 'pixels' where the flux is one standard deviation below the mean.\n",
    "        The first index of the first array corresponds to the first index of the second array, \n",
    "        i.e. [1,1] is a pixel with a flux less than one std below the mean.\n",
    "        These indices will be used to create the aperature mask for the mean_img.\n",
    "                                            '''\n",
    "    \n",
    "np.where(frame_one < mean + std)"
   ]
  },
  {
   "cell_type": "code",
   "execution_count": 8,
   "metadata": {},
   "outputs": [],
   "source": [
    "                                            '''\n",
    "                Example showing how to iterate through frames of the pixel data. \n",
    "                Incrementing the second index of the pixels array will jump to the next frame.\n",
    "                                            '''\n",
    "    \n",
    "frame_one = np.stack(pixels['FLUX'][0])\n",
    "frame_two = np.stack(pixels['FLUX'][1])"
   ]
  },
  {
   "cell_type": "code",
   "execution_count": 9,
   "metadata": {},
   "outputs": [
    {
     "name": "stdout",
     "output_type": "stream",
     "text": [
      "84.40231\n",
      "83.86319\n"
     ]
    }
   ],
   "source": [
    "# Top left pixel at frame one\n",
    "print(frame_one[0][0])\n",
    "# Top left pixel at frame two\n",
    "print(frame_two[0][0])"
   ]
  },
  {
   "cell_type": "code",
   "execution_count": 10,
   "metadata": {
    "scrolled": true
   },
   "outputs": [],
   "source": [
    "#Loop for background subtraction of apeture mask.\n",
    "\n",
    "#List of median values for faintest 20% of pixels. Each index value\n",
    "#represents one frame.\n",
    "median_list = []\n",
    "\n",
    "# List of flux values for every frame, every pixel.\n",
    "full_frame_list = np.stack(pixels['FLUX'])\n",
    "# Gets lowest 20% pixels, gets the median of them for each frame and appends to median_list\n",
    "for frame_num in full_frame_list:\n",
    "    #List of pixels per frame\n",
    "    temp_list = frame_num\n",
    "    temp_list = np.reshape(temp_list, (100))\n",
    "    temp_list.sort()\n",
    "    median_list.append(np.median(temp_list[0:20]))"
   ]
  },
  {
   "cell_type": "code",
   "execution_count": 11,
   "metadata": {},
   "outputs": [],
   "source": [
    "# This function takes a pixel at values x and y, and calculates the mean of the flux value for every frame.\n",
    "def get_pixel_mean(x, y, pixel_arr):\n",
    "    temp = []\n",
    "    # Used to keep track of frame number for background subtraction\n",
    "    median_frame_count = 0\n",
    "    for frame in pixel_arr['FLUX']:\n",
    "        pix_bkg_sub = frame[x][y] - median_list[median_frame_count]\n",
    "        temp.append(pix_bkg_sub)\n",
    "        median_frame_count+= 1\n",
    "    return np.mean(temp)"
   ]
  },
  {
   "cell_type": "code",
   "execution_count": 12,
   "metadata": {},
   "outputs": [],
   "source": [
    "full_img_avg = []\n",
    "# Loop iterates through a range of 10 since image is 10x10. Change range for larger images.\n",
    "for x in range(10):\n",
    "    for y in range(10):\n",
    "        #Appending the mean over time for this pixel to the full image mean\n",
    "        full_img_avg.append(get_pixel_mean(x,y,pixels))"
   ]
  },
  {
   "cell_type": "code",
   "execution_count": 13,
   "metadata": {},
   "outputs": [
    {
     "data": {
      "text/plain": [
       "(100,)"
      ]
     },
     "execution_count": 13,
     "metadata": {},
     "output_type": "execute_result"
    }
   ],
   "source": [
    "img_mean = np.asarray(full_img_avg)\n",
    "img_mean.shape"
   ]
  },
  {
   "cell_type": "code",
   "execution_count": 14,
   "metadata": {},
   "outputs": [
    {
     "data": {
      "text/plain": [
       "array([[ 1.5798798e+00,  1.4989645e+00,  2.1092207e+00,  5.0237765e+00,\n",
       "         3.9719677e+00,  2.2785795e+00,  1.9953899e+00,  4.7942042e-01,\n",
       "         3.6771068e-01,  5.1705366e-01],\n",
       "       [ 1.4684465e+00,  1.3417932e+00,  1.7623874e+00,  3.3692064e+00,\n",
       "         3.1553960e+00,  2.4036930e+00,  2.3285658e+00,  3.3335704e-01,\n",
       "         2.8716183e-01,  1.1562314e+00],\n",
       "       [ 1.9185714e+00,  1.0628752e+00,  9.3972814e-01,  2.8627925e+00,\n",
       "         2.8119099e+00,  2.9428291e+00,  2.7517025e+00,  3.7565696e-01,\n",
       "         1.3571399e+00,  2.8093047e+00],\n",
       "       [ 1.3170366e+00,  1.1896290e+00,  9.2846531e-01,  2.6284840e+00,\n",
       "         2.6739097e+00,  4.2135825e+00,  4.4220295e+00,  8.0985892e-01,\n",
       "         1.4694099e+00,  2.9216454e+00],\n",
       "       [ 1.7558980e+00,  3.0236986e+00,  2.9814417e+00,  3.5001900e+00,\n",
       "         2.9831533e+00,  3.1251423e+00,  3.1489556e+00,  6.0472238e-01,\n",
       "         1.0042934e+00,  1.6988053e+00],\n",
       "       [ 3.0561049e+00,  7.8536777e+00,  1.4325067e+01,  8.1486607e+00,\n",
       "         3.8935266e+00,  2.6282067e+00,  3.5730267e+00,  1.3419992e+00,\n",
       "         3.3016497e-01,  9.6838069e-01],\n",
       "       [ 3.9621434e+00,  1.2825224e+01,  3.6357643e+01,  1.3189747e+01,\n",
       "         5.2912240e+00,  3.7443957e+00,  2.9611378e+00,  4.5490205e-01,\n",
       "         1.5372813e-02,  4.1767332e-01],\n",
       "       [ 4.7614350e+00,  1.0240831e+01,  1.7732882e+01,  7.2150865e+00,\n",
       "         4.7185392e+00,  3.9555788e+00,  2.0853631e+00, -6.4885122e-04,\n",
       "         7.3037601e-01,  1.0496157e+00],\n",
       "       [ 3.0279961e+00,  4.9511256e+00,  6.8049636e+00,  5.9199162e+00,\n",
       "         7.9460669e+00,  6.1168437e+00,  3.1345947e+00,  1.8167279e+00,\n",
       "         4.9188936e-01,  7.9454255e-01],\n",
       "       [ 2.7129192e+00,  3.5416374e+00,  3.4667315e+00,  7.7975087e+00,\n",
       "         2.3706095e+01,  1.3068976e+01,  4.2026782e+00,  2.0839508e+00,\n",
       "         3.0339453e-02,  4.6040407e-01]], dtype=float32)"
      ]
     },
     "execution_count": 14,
     "metadata": {},
     "output_type": "execute_result"
    }
   ],
   "source": [
    "new_full_img = np.resize(img_mean,(10,10))\n",
    "mean = new_full_img.mean()\n",
    "std = new_full_img.std()\n",
    "new_full_img"
   ]
  },
  {
   "cell_type": "code",
   "execution_count": 15,
   "metadata": {},
   "outputs": [
    {
     "data": {
      "text/plain": [
       "<matplotlib.image.AxesImage at 0x7f9ee92bed30>"
      ]
     },
     "execution_count": 15,
     "metadata": {},
     "output_type": "execute_result"
    },
    {
     "data": {
      "image/png": "[encoded data removed]",
      "text/plain": [
       "<Figure size 432x288 with 1 Axes>"
      ]
     },
     "metadata": {
      "needs_background": "light"
     },
     "output_type": "display_data"
    }
   ],
   "source": [
    "plt.imshow(new_full_img)"
   ]
  },
  {
   "cell_type": "code",
   "execution_count": 16,
   "metadata": {},
   "outputs": [],
   "source": [
    "def reject_outliers(data):\n",
    "    # let's assume that `data` is a 1D array of the total flux within the mask in each frame\n",
    "    \n",
    "    # cond is value (flux) that is the threshold for \"2 sigma\"\n",
    "\n",
    "    def quicklook(series):\n",
    "        test = []\n",
    "        for cadence in range(len(series)):\n",
    "            # is the flux at that cadence more than 2std off of the mean --> data[cadence] > mean(data) + 2*std(data)\n",
    "            if (np.abs(series[cadence]) < condition):\n",
    "                test.append(series[cadence])\n",
    "        return test\n",
    "    prev = condition = np.mean(data) + 4 * np.std(data)\n",
    "    while(True):\n",
    "        temp = quicklook(data)\n",
    "        \n",
    "        condition = np.mean(temp) + 4 * np.std(temp)\n",
    "        \n",
    "        if (prev - condition < 10):\n",
    "            break\n",
    "        else: prev = condition\n",
    "    \n",
    "    result = temp\n",
    "    \n",
    "    #return data[abs(data - np.mean(data)) < m * np.std(data)]    return result"
   ]
  },
  {
   "cell_type": "code",
   "execution_count": 67,
   "metadata": {
    "scrolled": true
   },
   "outputs": [],
   "source": [
    "# Code for lightcurve ensemble\n",
    "\n",
    "#Holds median divided flux values\n",
    "flux_vals = []\n",
    "#Pixels used to create the ensemble, these are the four corners and the center pixel.\n",
    "ensemble_box = [[0,0],[0,9],[9,9],[9,0],[5,5]]\n",
    "\n",
    "for i in ensemble_box:\n",
    "    #temp holds flux values for one pixel in the ensemble box.\n",
    "    temp = []\n",
    "    #Second loop goes through each cadence.\n",
    "    for frame in range(len(full_frame_list)):\n",
    "        cadence = full_frame_list[frame]\n",
    "        temp.append(cadence[i[0]][i[1]])\n",
    "    #Appends the median divided flux values for each pixel in box.\n",
    "    flux_vals.append(temp/np.median(temp))\n",
    "    \n",
    "#Holds the median flux values for all 5 pixels in the ensemble - for each cadence.\n",
    "img_flux_median = []\n",
    "    \n",
    "# Loops through all 1060 cadences\n",
    "for cadence in range(len(flux_vals[0])):\n",
    "    # Holds each pixels flux value at specific cadence.\n",
    "    current_cad_flux = []\n",
    "    #Nested loop changes pixel in the ensemble.\n",
    "    for pixel in flux_vals:\n",
    "        #Appends current pixel's flux at this cadence.\n",
    "        current_cad_flux.append(pixel[cadence])\n",
    "    #Finds the median of this cadence's flux value, appends to img_flux_median\n",
    "    img_flux_median.append(np.median(current_cad_flux))\n"
   ]
  },
  {
   "cell_type": "code",
   "execution_count": 87,
   "metadata": {},
   "outputs": [],
   "source": [
    "#Code for creating target pixel light curve.\n",
    "targ_pix = [5,6]\n",
    "target_flux_vals = []\n",
    "\n",
    "for frame in full_frame_list:\n",
    "    target_flux_vals.append(frame[targ_pix[0]][targ_pix[1]])\n",
    "\n",
    "lc_corr = np.divide(target_flux_vals, img_flux_median)\n",
    "lc_corr = np.divide(lc_corr, np.median(lc_corr))\n",
    "new_targ_flux = lc_corr * np.median(target_flux_vals)"
   ]
  },
  {
   "cell_type": "code",
   "execution_count": 91,
   "metadata": {},
   "outputs": [
    {
     "data": {
      "image/png": "[encoded data removed]",
      "text/plain": [
       "<Figure size 432x288 with 1 Axes>"
      ]
     },
     "metadata": {
      "needs_background": "light"
     },
     "output_type": "display_data"
    }
   ],
   "source": [
    "new_lc = plt.plot(pixels['TIME'],new_targ_flux)"
   ]
  },
  {
   "cell_type": "code",
   "execution_count": 17,
   "metadata": {},
   "outputs": [
    {
     "data": {
      "text/plain": [
       "92"
      ]
     },
     "execution_count": 17,
     "metadata": {},
     "output_type": "execute_result"
    }
   ],
   "source": [
    "#Code determines which pixels should be in the mask.\n",
    "wanted_pixels = np.where(new_full_img < mean + std)\n",
    "len(wanted_pixels[0])"
   ]
  },
  {
   "cell_type": "code",
   "execution_count": 18,
   "metadata": {},
   "outputs": [],
   "source": [
    "x_vals = []\n",
    "y_vals = []\n",
    "# Gets indexes from wanted pixels, and appends them to an x and y list.\n",
    "for arr_ind in range(2):\n",
    "    for pixel_ind in range(92):\n",
    "        if arr_ind == 0:\n",
    "            x_vals.append(wanted_pixels[arr_ind][pixel_ind])\n",
    "        else:\n",
    "            y_vals.append(wanted_pixels[arr_ind][pixel_ind])"
   ]
  },
  {
   "cell_type": "code",
   "execution_count": 19,
   "metadata": {},
   "outputs": [],
   "source": [
    "# Creates a list of x,y pairs. \n",
    "index_list = []\n",
    "for index in range(92):\n",
    "    index_list.append([x_vals[index],y_vals[index]])"
   ]
  },
  {
   "cell_type": "code",
   "execution_count": 20,
   "metadata": {
    "scrolled": true
   },
   "outputs": [
    {
     "data": {
      "text/plain": [
       "[[0, 0],\n",
       " [0, 1],\n",
       " [0, 2],\n",
       " [0, 3],\n",
       " [0, 4],\n",
       " [0, 5],\n",
       " [0, 6],\n",
       " [0, 7],\n",
       " [0, 8],\n",
       " [0, 9],\n",
       " [1, 0],\n",
       " [1, 1],\n",
       " [1, 2],\n",
       " [1, 3],\n",
       " [1, 4],\n",
       " [1, 5],\n",
       " [1, 6],\n",
       " [1, 7],\n",
       " [1, 8],\n",
       " [1, 9],\n",
       " [2, 0],\n",
       " [2, 1],\n",
       " [2, 2],\n",
       " [2, 3],\n",
       " [2, 4],\n",
       " [2, 5],\n",
       " [2, 6],\n",
       " [2, 7],\n",
       " [2, 8],\n",
       " [2, 9],\n",
       " [3, 0],\n",
       " [3, 1],\n",
       " [3, 2],\n",
       " [3, 3],\n",
       " [3, 4],\n",
       " [3, 5],\n",
       " [3, 6],\n",
       " [3, 7],\n",
       " [3, 8],\n",
       " [3, 9],\n",
       " [4, 0],\n",
       " [4, 1],\n",
       " [4, 2],\n",
       " [4, 3],\n",
       " [4, 4],\n",
       " [4, 5],\n",
       " [4, 6],\n",
       " [4, 7],\n",
       " [4, 8],\n",
       " [4, 9],\n",
       " [5, 0],\n",
       " [5, 1],\n",
       " [5, 3],\n",
       " [5, 4],\n",
       " [5, 5],\n",
       " [5, 6],\n",
       " [5, 7],\n",
       " [5, 8],\n",
       " [5, 9],\n",
       " [6, 0],\n",
       " [6, 4],\n",
       " [6, 5],\n",
       " [6, 6],\n",
       " [6, 7],\n",
       " [6, 8],\n",
       " [6, 9],\n",
       " [7, 0],\n",
       " [7, 3],\n",
       " [7, 4],\n",
       " [7, 5],\n",
       " [7, 6],\n",
       " [7, 7],\n",
       " [7, 8],\n",
       " [7, 9],\n",
       " [8, 0],\n",
       " [8, 1],\n",
       " [8, 2],\n",
       " [8, 3],\n",
       " [8, 4],\n",
       " [8, 5],\n",
       " [8, 6],\n",
       " [8, 7],\n",
       " [8, 8],\n",
       " [8, 9],\n",
       " [9, 0],\n",
       " [9, 1],\n",
       " [9, 2],\n",
       " [9, 3],\n",
       " [9, 6],\n",
       " [9, 7],\n",
       " [9, 8],\n",
       " [9, 9]]"
      ]
     },
     "execution_count": 20,
     "metadata": {},
     "output_type": "execute_result"
    }
   ],
   "source": [
    "index_list"
   ]
  },
  {
   "cell_type": "code",
   "execution_count": null,
   "metadata": {},
   "outputs": [],
   "source": []
  },
  {
   "cell_type": "code",
   "execution_count": null,
   "metadata": {},
   "outputs": [],
   "source": []
  }
 ],
 "metadata": {
  "kernelspec": {
   "display_name": "Python 3",
   "language": "python",
   "name": "python3"
  },
  "language_info": {
   "codemirror_mode": {
    "name": "ipython",
    "version": 3
   },
   "file_extension": ".py",
   "mimetype": "text/x-python",
   "name": "python",
   "nbconvert_exporter": "python",
   "pygments_lexer": "ipython3",
   "version": "3.6.8"
  }
 },
 "nbformat": 4,
 "nbformat_minor": 2
}
